{
  "nbformat": 4,
  "nbformat_minor": 0,
  "metadata": {
    "colab": {
      "provenance": [],
      "mount_file_id": "1Ycdz_CSV-xSkX5No3NNuWXf3xwMOUWbp",
      "authorship_tag": "ABX9TyN2ltZ1nHY2iO+ao05CwQUK",
      "include_colab_link": true
    },
    "kernelspec": {
      "name": "python3",
      "display_name": "Python 3"
    },
    "language_info": {
      "name": "python"
    }
  },
  "cells": [
    {
      "cell_type": "markdown",
      "metadata": {
        "id": "view-in-github",
        "colab_type": "text"
      },
      "source": [
        "<a href=\"https://colab.research.google.com/github/raspberryscorn/2_7_1/blob/main/data_reader.ipynb\" target=\"_parent\"><img src=\"https://colab.research.google.com/assets/colab-badge.svg\" alt=\"Open In Colab\"/></a>"
      ]
    },
    {
      "cell_type": "code",
      "execution_count": 1,
      "metadata": {
        "colab": {
          "base_uri": "https://localhost:8080/"
        },
        "id": "bSzZYI0y9UDw",
        "outputId": "db18ff00-67c3-4c93-a236-36680c46fb98"
      },
      "outputs": [
        {
          "output_type": "stream",
          "name": "stdout",
          "text": [
            "/content/drive/MyDrive/ddeep/bhban_ai/SECTION_2/Chapter_7/2_7_1\n"
          ]
        }
      ],
      "source": [
        "cd \"/content/drive/MyDrive/ddeep/bhban_ai/SECTION_2/Chapter_7/2_7_1\""
      ]
    },
    {
      "cell_type": "code",
      "source": [
        "\"\"\"\n",
        "Author : Byunghyun Ban\n",
        "Date : 2020.07.17.\n",
        "\"\"\"\n",
        "import random\n",
        "import os\n",
        "\n",
        "import time\n",
        "try:\n",
        "    from matplotlib import pyplot as plt\n",
        "except ModuleNotFoundError:\n",
        "    import pip\n",
        "    pip.main(['install', 'matplotlib'])\n",
        "    try:\n",
        "        from matplotlib import pyplot as plt\n",
        "    except ModuleNotFoundError:\n",
        "        time.sleep(2)\n",
        "        from matplotlib import pyplot as plt\n",
        "\n",
        "try:\n",
        "    import numpy as np\n",
        "except ModuleNotFoundError:\n",
        "    import pip\n",
        "    pip.main(['install', 'numpy'])\n",
        "    try:\n",
        "        import numpy as np\n",
        "    except ModuleNotFoundError:\n",
        "        time.sleep(2)\n",
        "        import numpy as np\n",
        "\n",
        "# 데이터를 떠먹여 줄 클래스를 제작합니다.\n",
        "class DataReader():\n",
        "    def __init__(self):\n",
        "        self.label = []\n",
        "\n",
        "        self.train_X = []\n",
        "        self.train_Y = []\n",
        "        self.test_X = []\n",
        "        self.test_Y = []\n",
        "\n",
        "        self.read_data()\n",
        "\n",
        "    def read_data(self):\n",
        "        print(\"Reading Data...\")\n",
        "        files = os.listdir(\"data\")\n",
        "        data = []\n",
        "        for i, file in enumerate(files):\n",
        "            book = np.loadtxt(\"data/\" + file, delimiter=\",\", dtype=np.float32).transpose()\n",
        "\n",
        "            self.label.append(file[:-4])\n",
        "            for el in book:\n",
        "                data.append((el / np.max(el), i))\n",
        "\n",
        "        random.shuffle(data)\n",
        "\n",
        "        for i, el in enumerate(data):\n",
        "            if i < 0.8*len(data):\n",
        "                self.train_X.append(el[0])\n",
        "                self.train_Y.append(el[1])\n",
        "            else:\n",
        "                self.test_X.append(el[0])\n",
        "                self.test_Y.append(el[1])\n",
        "\n",
        "        self.train_X = np.asarray(self.train_X)\n",
        "        self.train_Y = np.asarray(self.train_Y)\n",
        "        self.test_X = np.asarray(self.test_X)\n",
        "        self.test_Y = np.asarray(self.test_Y)\n",
        "\n",
        "        # 데이터 읽기가 완료되었습니다.\n",
        "        # 읽어온 데이터의 정보를 출력합니다.\n",
        "        print(\"\\n\\nData Read Done!\")\n",
        "        print(\"Training X Size : \" + str(self.train_X.shape))\n",
        "        print(\"Training Y Size : \" + str(self.train_Y.shape))\n",
        "        print(\"Test X Size : \" + str(self.test_X.shape))\n",
        "        print(\"Test Y Size : \" + str(self.test_Y.shape) + '\\n\\n')\n",
        "\n",
        "\n",
        "def draw_graph(history):\n",
        "    train_history = history.history[\"loss\"]\n",
        "    validation_history = history.history[\"val_loss\"]\n",
        "    fig = plt.figure(figsize=(8, 8))\n",
        "    plt.title(\"Loss History\")\n",
        "    plt.xlabel(\"EPOCH\")\n",
        "    plt.ylabel(\"LOSS Function\")\n",
        "    plt.plot(train_history, \"red\")\n",
        "    plt.plot(validation_history, 'blue')\n",
        "    fig.savefig(\"train_history.png\")\n",
        "\n",
        "    train_history = history.history[\"accuracy\"]\n",
        "    validation_history = history.history[\"val_accuracy\"]\n",
        "    fig = plt.figure(figsize=(8, 8))\n",
        "    plt.title(\"Accuracy History\")\n",
        "    plt.xlabel(\"EPOCH\")\n",
        "    plt.ylabel(\"Accuracy\")\n",
        "    plt.plot(train_history, \"red\")\n",
        "    plt.plot(validation_history, 'blue')\n",
        "    fig.savefig(\"accuracy_history.png\")\n"
      ],
      "metadata": {
        "id": "ClKZ3PVv-GBA"
      },
      "execution_count": 2,
      "outputs": []
    }
  ]
}